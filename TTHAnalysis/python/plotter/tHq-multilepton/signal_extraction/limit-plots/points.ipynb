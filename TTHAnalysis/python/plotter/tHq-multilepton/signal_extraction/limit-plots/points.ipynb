{
 "cells": [
  {
   "cell_type": "code",
   "execution_count": 11,
   "metadata": {
    "collapsed": false
   },
   "outputs": [],
   "source": [
    "import pandas as pd\n",
    "from functools import partial\n",
    "from ctcv_helper import print_table\n",
    "from ctcv_helper import read_dataframe"
   ]
  },
  {
   "cell_type": "code",
   "execution_count": 12,
   "metadata": {
    "collapsed": false,
    "scrolled": false
   },
   "outputs": [
    {
     "name": "stdout",
     "output_type": "stream",
     "text": [
      " alpha  Ct/CV   CV=0.5  CV=1.0  CV=1.5\n",
      "-0.973 -6.000:   -3.00                 \n",
      "-0.941 -4.000:   -2.00                 \n",
      "-0.900 -3.000:   -1.50   -3.00         \n",
      "-0.862 -2.500:   -1.25                 \n",
      "-0.800 -2.000:   -1.00   -2.00   -3.00 \n",
      "-0.692 -1.500:   -0.75   -1.50         \n",
      "-0.640 -1.333:                   -2.00 \n",
      "-0.610 -1.250:           -1.25         \n",
      "-0.500 -1.000:   -0.50   -1.00   -1.50 \n",
      "-0.410 -0.833:                   -1.25 \n",
      "-0.360 -0.750:           -0.75         \n",
      "-0.308 -0.667:                   -1.00 \n",
      "-0.200 -0.500:   -0.25   -0.50   -0.75 \n",
      "-0.100 -0.333:                   -0.50 \n",
      "-0.059 -0.250:           -0.25         \n",
      "-0.027 -0.167:                   -0.25 \n",
      " 0.000  0.000:    0.00    0.00    0.00 \n",
      " 0.027  0.167:                    0.25 \n",
      " 0.059  0.250:            0.25         \n",
      " 0.100  0.333:                    0.50 \n",
      " 0.200  0.500:    0.25    0.50    0.75 \n",
      " 0.308  0.667:                    1.00 \n",
      " 0.360  0.750:            0.75         \n",
      " 0.410  0.833:                    1.25 \n",
      " 0.500  1.000:    0.50    1.00    1.50 \n",
      " 0.610  1.250:            1.25         \n",
      " 0.640  1.333:                    2.00 \n",
      " 0.692  1.500:    0.75    1.50         \n",
      " 0.800  2.000:    1.00    2.00    3.00 \n",
      " 0.862  2.500:    1.25                 \n",
      " 0.900  3.000:    1.50    3.00         \n",
      " 0.941  4.000:    2.00                 \n",
      " 0.973  6.000:    3.00                 \n"
     ]
    }
   ],
   "source": [
    "# Print Ct values in a table of alpha vs CV\n",
    "print \" alpha  Ct/CV   CV=0.5  CV=1.0  CV=1.5\"\n",
    "print_table([lambda ct,cv: ct], linepat=\"  %5.2f \")"
   ]
  },
  {
   "cell_type": "code",
   "execution_count": 13,
   "metadata": {
    "collapsed": false
   },
   "outputs": [],
   "source": [
    "# Read tHq and tHW cross sections from csv files and convert them to\n",
    "# dictionaries of (ct,cv) -> xsec\n",
    "xsec_thq = pd.DataFrame.from_csv(\"xsecs.csv\",     sep=\",\", index_col=None)\n",
    "xsec_thw = pd.DataFrame.from_csv(\"xsecs_tWH.csv\", sep=\",\", index_col=None)"
   ]
  },
  {
   "cell_type": "code",
   "execution_count": 14,
   "metadata": {
    "collapsed": false,
    "scrolled": false
   },
   "outputs": [
    {
     "name": "stdout",
     "output_type": "stream",
     "text": [
      " alpha  Ct/CV     CV=0.5       CV=1.0       CV=1.5\n",
      "-0.973 -6.000: 2.260, 0.514                           \n",
      "-0.941 -4.000: 1.160, 0.255                           \n",
      "-0.900 -3.000: 0.748, 0.159 2.991, 0.641              \n",
      "-0.862 -2.500: 0.573, 0.120                           \n",
      "-0.800 -2.000: 0.427, 0.087 1.706, 0.346 3.845, 0.782 \n",
      "-0.692 -1.500: 0.300, 0.059 1.205, 0.235              \n",
      "-0.640 -1.333:                           2.371, 0.457 \n",
      "-0.610 -1.250:              0.987, 0.188              \n",
      "-0.500 -1.000: 0.198, 0.037 0.793, 0.147 1.784, 0.329 \n",
      "-0.410 -0.833:                           1.518, 0.275 \n",
      "-0.360 -0.750:              0.621, 0.110              \n",
      "-0.308 -0.667:                           1.287, 0.224 \n",
      "-0.200 -0.500: 0.119, 0.020 0.472, 0.080 1.067, 0.180 \n",
      "-0.100 -0.333:                           0.874, 0.141 \n",
      "-0.059 -0.250:              0.350, 0.055              \n",
      "-0.027 -0.167:                           0.703, 0.108 \n",
      " 0.000  0.000: 0.062, 0.009 0.248, 0.036 0.558, 0.081 \n",
      " 0.027  0.167:                           0.436, 0.059 \n",
      " 0.059  0.250:              0.169, 0.022              \n",
      " 0.100  0.333:                           0.334, 0.043 \n",
      " 0.200  0.500: 0.028, 0.004 0.113, 0.014 0.256, 0.033 \n",
      " 0.308  0.667:                           0.200, 0.028 \n",
      " 0.360  0.750:              0.081, 0.012              \n",
      " 0.410  0.833:                           0.169, 0.029 \n",
      " 0.500  1.000: 0.018, 0.004 0.071, 0.016 0.159, 0.035 \n",
      " 0.610  1.250:              0.084, 0.025              \n",
      " 0.640  1.333:                           0.210, 0.065 \n",
      " 0.692  1.500: 0.030, 0.010 0.120, 0.039              \n",
      " 0.800  2.000: 0.066, 0.021 0.260, 0.086 0.589, 0.193 \n",
      " 0.862  2.500: 0.124, 0.038                           \n",
      " 0.900  3.000: 0.205, 0.061 0.821, 0.246              \n",
      " 0.941  4.000: 0.436, 0.125                           \n",
      " 0.973  6.000: 1.177, 0.317                           \n"
     ]
    }
   ],
   "source": [
    "# Print tHq and tHW cross sections in a table of alpha vs CV\n",
    "print \" alpha  Ct/CV     CV=0.5       CV=1.0       CV=1.5\"\n",
    "print_table([partial(read_dataframe, df=xsec_thq, att='xsec'),\n",
    "             partial(read_dataframe, df=xsec_thw, att='xsec')],\n",
    "            linepat=\"%5.3f, %5.3f \")"
   ]
  },
  {
   "cell_type": "code",
   "execution_count": null,
   "metadata": {
    "collapsed": false
   },
   "outputs": [],
   "source": []
  },
  {
   "cell_type": "code",
   "execution_count": null,
   "metadata": {
    "collapsed": true
   },
   "outputs": [],
   "source": []
  },
  {
   "cell_type": "code",
   "execution_count": null,
   "metadata": {
    "collapsed": true
   },
   "outputs": [],
   "source": []
  }
 ],
 "metadata": {
  "kernelspec": {
   "display_name": "Python 2",
   "language": "python",
   "name": "python2"
  },
  "language_info": {
   "codemirror_mode": {
    "name": "ipython",
    "version": 2
   },
   "file_extension": ".py",
   "mimetype": "text/x-python",
   "name": "python",
   "nbconvert_exporter": "python",
   "pygments_lexer": "ipython2",
   "version": "2.7.11"
  }
 },
 "nbformat": 4,
 "nbformat_minor": 0
}
